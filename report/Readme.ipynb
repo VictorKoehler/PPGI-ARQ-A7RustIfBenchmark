{
 "cells": [
  {
   "cell_type": "markdown",
   "metadata": {},
   "source": [
    "# Atividade 7 - Arquitetura de Computadores - PPGI\n",
    "\n",
    "Aluno: Victor José de Sousa Koehler\n",
    "\n",
    "Matrícula: 20211023501"
   ]
  },
  {
   "cell_type": "markdown",
   "metadata": {},
   "source": [
    "\n",
    "## Introdução\n",
    "\n",
    "Neste trabalho é apresentado um breve estudo sobre o comportamento dos preditores de *branches* nos processadores modernos. Mais especificamente, foi implementado um simples programa baseado nos materiais da disciplina do professor Alisson Brito (https://drive.google.com/drive/folders/1jaVBTxe3zpIZb2BnYBNtflO2yecq2bwP) que possui como objetivo medir o custo de tempo associado com a execução de um bloco de decisão `if-else`, especialmente para o caso `else`.\n",
    "\n",
    "Os códigos de interesse foram implementados na linguagem Rust, compilados utilizando Cargo/rustc versão 1.61.0 (a028ae4 2022-04-29/fe5b13d68 2022-05-18) e testados em um computador executando o sistema operacional Ubuntu 20.04.1, kernel Linux versão 5.13.0-44-generic#49, equipado com 8GB de RAM e processador AMD Ryzen 7 5700U cujas capacidades de cache L1 de instruções e dados, L2 e L3 são, respectivamente, 256 KiB, 256 KiB, 4 MiB e 8 MiB, como ilustrado na seguinte imagem:\n",
    "\n",
    "![Detalhes da CPU](lscpu.png \"Detalhes da CPU\")\n"
   ]
  },
  {
   "cell_type": "markdown",
   "metadata": {},
   "source": [
    "\n",
    "## Estrutura do Código\n",
    "\n",
    "A pasta `src/` abriga o único arquivo de código-fonte: main.rs. Nele, encontra-se uma declaração de `struct`, *Triplet*, que contém três números de ponto flutuante, bem como 6 definições de funções:\n",
    "\n",
    "```Rust\n",
    "struct Triplet {\n",
    "    a : f64,\n",
    "    b : f64,\n",
    "    c : f64\n",
    "}\n",
    "\n",
    "fn populate(buff : &mut Vec<Triplet>, n : usize, true_percentage : usize) -> i32 // Cria e adiciona `n` elementos em buff, das quais `true_proportion`  deles satisfazem a condição t.a > t.b, e os demais t.a <= b; todos satisfazem t.c = 0.\n",
    "fn operate_sum(buff : &mut Vec<Triplet>, a : f64, b : f64, c : f64) // Para cada elemento t em buff, faz t.a += a; t.b += b; t.c += c\n",
    "fn operate_multiply(buff : &mut Vec<Triplet>, a : f64, b : f64, c : f64) // Para cada elemento t em buff, faz t.a *= a; t.b *= b; t.c *= c\n",
    "fn operate_print(buff : &Vec<Triplet>) // Imprime os valores de buff\n",
    "fn the_benchmark(buff : &mut Vec<Triplet>, repeat_ : i32) -> u128 // Realiza o benchmark\n",
    "fn main() // Lê comandos do terminal padrão.\n",
    "```"
   ]
  },
  {
   "cell_type": "markdown",
   "metadata": {},
   "source": [
    "A função `main()`, invocada na inicialização do programa, lê comandos e parâmetros da entrada padrão e invoca as funções correspondentes mencionadas acima (com exceção da própria `main`) em qualquer ordem especificada pelo usuário, operando sobre o vetor `buff` declarada nela própria. O bloco de código abaixo resume a implementação da função `main`. Por sua vez, `populate` inicializa/incrementa o vetor `buff` com `n` *Triplets* com números reais aleatórios no intervalo 0 a 1, das quais `true_proportion` deles satisfazem a condição `t.a > t.b`, e os demais `t.a <= b`; todos satisfazem `t.c = 0`.\n",
    "\n",
    "```Rust\n",
    "fn main() {\n",
    "    let mut buff: Vec<Triplet> = Vec::new();\n",
    "\n",
    "    loop { // ... significa omitido\n",
    "        cmds = ...; // Lê uma linha (comando) da entrada padrão e quebra em partes\n",
    "\n",
    "        match cmds[0] { // A primeira parte contém o comando, o restante são os parâmetros\n",
    "            \"pop\" => { ... populate(&mut buff, n, t); ... },\n",
    "            \"sum\" => { ... operate_sum(&mut buff, v[0], v[1], v[2]); },\n",
    "            \"multiply\" => { ... operate_multiply(&mut buff, v[0], v[1], v[2]); },\n",
    "            \"print\" => { operate_print(&buff); },\n",
    "            \"bench\" => { ... the_benchmark(&mut buff, cmds[1]) ... },\n",
    "            _ => { panic!(\"Invalid operation: '{}'\", cmds[0]); }\n",
    "        }\n",
    "    }\n",
    "}\n",
    "```\n"
   ]
  },
  {
   "cell_type": "markdown",
   "metadata": {},
   "source": [
    "A função `the_benchmark` realiza e cronometra os experimentos. A **Linha (I)** contém o `if` sendo estudado, e a **Linha (II)** o `else` correspondente: Cada bloco desses dois condicionais são idênticos com exceção dos coeficientes e da ordem de algumas instruções utilizadas, e a proporção que eles são acessados dependem da função `populate` (mais especificamente, do argumento `true_proportion`). As demais funções, `operate_sum`, `operate_multiply`, `operate_print`, estão presentes com o principal intuito de garantir que o compilador não aplique otimizações agressivas a partir da inferência do comportamento dos dados, não tendo sido utilizadas no decorrer dos experimentos realizados neste relatório. Assim sendo, os 6 blocos `if` destacados com \"*geralmente verdade*\" na função `the_benchmark` abaixo estão presentes no *assembly* final e são garantidamente executados em todas as iterações pois, como dito anteriormente, `populate` gera números entre 0 e 1.\n",
    "\n",
    "```Rust\n",
    "fn the_benchmark(buff : &mut Vec<Triplet>, repeat_ : i32) -> u128 {\n",
    "    let start = Instant::now();\n",
    "    for _ in 0..repeat_ {\n",
    "        for t in &mut *buff {\n",
    "            for _ in 0..5 {\n",
    "                if t.a > t.b { // Linha (I): if sendo avaliado\n",
    "                    let mut p1 = t.a*5.0 - t.b*4.0 + t.a*t.c*2.0;\n",
    "                    if t.a >= 0.0 { p1 += 2.0; } // geralmente verdade\n",
    "                    if t.b >= 0.0 { p1 *= 1.5; } // geralmente verdade\n",
    "                    if t.b*t.a >= 0.0 { p1 += 0.5; } // geralmente verdade\n",
    "                    t.c += p1;\n",
    "                } else { // Linha (II): else sendo avaliado\n",
    "                    let mut p1 = t.a*6.0 - t.b*5.1 + t.a*t.c*1.8;\n",
    "                    if t.b >= 0.0 { p1 *= 1.1; } // geralmente verdade\n",
    "                    if t.a >= 0.0 { p1 += 2.1; } // geralmente verdade\n",
    "                    if t.b*t.a >= 0.0 { p1 += 0.6; } // geralmente verdade\n",
    "                    t.c += p1;\n",
    "                }\n",
    "            }\n",
    "        }\n",
    "    }\n",
    "    return start.elapsed().as_nanos();\n",
    "}\n",
    "```"
   ]
  },
  {
   "cell_type": "markdown",
   "metadata": {},
   "source": [
    "## Experimentos"
   ]
  },
  {
   "cell_type": "code",
   "execution_count": 2,
   "metadata": {},
   "outputs": [],
   "source": [
    "import os\n",
    "import itertools\n",
    "import pandas as pd\n",
    "import seaborn as sns"
   ]
  },
  {
   "cell_type": "code",
   "execution_count": 3,
   "metadata": {},
   "outputs": [],
   "source": [
    "def read_file(fn):\n",
    "    with open(fn, 'r') as fh:\n",
    "        return fh.read()\n",
    "\n",
    "def read_bench_file(fn : str):\n",
    "    c = fn.split('/')[-1].rsplit('.', 1)[0].split('_') # sz, rep, dist, prof\n",
    "    c.append(c[0] + ' & ' + c[-1])\n",
    "    c[0], c[1], c[2] = float(c[0]), float(c[1]), float(c[2])\n",
    "    return [c+[float(i.rsplit(' ', 1)[1].strip())] for i in read_file(fn).split('\\n') if 'Benchmark results' in i]\n",
    "\n",
    "_pref = '../output/'\n",
    "_cols = ['size', 'repeat', 'true_percentage', 'profile', 'size&profile', 'time']\n",
    "df = pd.DataFrame(itertools.chain(*[read_bench_file(_pref+i) for i in os.listdir(_pref)]), columns=_cols).sort_values(_cols)\n",
    "df_sz1e6 = df[df['size'] == 1e6]\n",
    "df_sz1e8 = df[df['size'] == 1e8]\n",
    "# df_sz1e8"
   ]
  },
  {
   "cell_type": "markdown",
   "metadata": {},
   "source": [
    "Os experimentos foram realizados utilizando os dois perfis padrões de otmização da linguagem Rust: *debug*, padrão, sem otimizações, destinado a facilitar o desenvolvimento, e *release*, destinado a produzir binários otimizados para produção. Além disso, foram selecionados os seguintes valores para os parâmetros: `size` = {$10^6, 10^8$}, que representa o parâmetro `n` da função `populate`; `true_percentage` = {$5\\%, 95\\%$} que representa a proporção de `size` que entrará no `if` da **Linha (I)** (segundo parâmetro da função `populate`); e, por fim, `repeat` = $10^3$ caso `size` = $10^8$ ou `repeat` = $10^4$ caso `size` = $10^6$, que representa o parâmetro `repeat_` de `the_benchmark` e serve para repetir em laço o experimento, aumentando a escala de tempo [do experimento] sem o aumento de memória que seria necessário com o acréscimo de `size`.\n",
    "\n",
    "Para todas as combinações de parâmetros, com exceção de `size` = $10^8$ e *debug* devido ao alto custo de tempo necessário, foram realizadas 5 execuções de forma alternada entre os parâmetros para mitigar potenciais ganhos causados por *boosts* ou perdas em decorrência de sobreaquecimento do computador. A Tabela a seguir relaciona os resultados da média do tempo das execuções em segundos."
   ]
  },
  {
   "cell_type": "code",
   "execution_count": 4,
   "metadata": {},
   "outputs": [
    {
     "data": {
      "text/html": [
       "<div>\n",
       "<style scoped>\n",
       "    .dataframe tbody tr th:only-of-type {\n",
       "        vertical-align: middle;\n",
       "    }\n",
       "\n",
       "    .dataframe tbody tr th {\n",
       "        vertical-align: top;\n",
       "    }\n",
       "\n",
       "    .dataframe thead th {\n",
       "        text-align: right;\n",
       "    }\n",
       "</style>\n",
       "<table border=\"1\" class=\"dataframe\">\n",
       "  <thead>\n",
       "    <tr style=\"text-align: right;\">\n",
       "      <th></th>\n",
       "      <th></th>\n",
       "      <th>true_percentage</th>\n",
       "      <th>5.0</th>\n",
       "      <th>95.0</th>\n",
       "    </tr>\n",
       "    <tr>\n",
       "      <th>size</th>\n",
       "      <th>repeat</th>\n",
       "      <th>profile</th>\n",
       "      <th></th>\n",
       "      <th></th>\n",
       "    </tr>\n",
       "  </thead>\n",
       "  <tbody>\n",
       "    <tr>\n",
       "      <th rowspan=\"2\" valign=\"top\">1000000.0</th>\n",
       "      <th rowspan=\"2\" valign=\"top\">10000.0</th>\n",
       "      <th>debug</th>\n",
       "      <td>139.517234</td>\n",
       "      <td>142.653327</td>\n",
       "    </tr>\n",
       "    <tr>\n",
       "      <th>release</th>\n",
       "      <td>11.756434</td>\n",
       "      <td>11.702592</td>\n",
       "    </tr>\n",
       "    <tr>\n",
       "      <th>100000000.0</th>\n",
       "      <th>1000.0</th>\n",
       "      <th>release</th>\n",
       "      <td>117.544678</td>\n",
       "      <td>116.956444</td>\n",
       "    </tr>\n",
       "  </tbody>\n",
       "</table>\n",
       "</div>"
      ],
      "text/plain": [
       "true_percentage                    5.0         95.0\n",
       "size        repeat  profile                        \n",
       "1000000.0   10000.0 debug    139.517234  142.653327\n",
       "                    release   11.756434   11.702592\n",
       "100000000.0 1000.0  release  117.544678  116.956444"
      ]
     },
     "execution_count": 4,
     "metadata": {},
     "output_type": "execute_result"
    }
   ],
   "source": [
    "df.pivot_table(values='time', index=['size', 'repeat', 'profile'], columns=['true_percentage'], aggfunc='mean')"
   ]
  },
  {
   "cell_type": "markdown",
   "metadata": {},
   "source": [
    "A Tabela a seguir relaciona os mesmos experimentos, porém em função do valor mínimo, máximo e o desvio padrão obtido entre os 5 experimentos."
   ]
  },
  {
   "cell_type": "code",
   "execution_count": 8,
   "metadata": {},
   "outputs": [
    {
     "data": {
      "text/html": [
       "<div>\n",
       "<style scoped>\n",
       "    .dataframe tbody tr th:only-of-type {\n",
       "        vertical-align: middle;\n",
       "    }\n",
       "\n",
       "    .dataframe tbody tr th {\n",
       "        vertical-align: top;\n",
       "    }\n",
       "\n",
       "    .dataframe thead tr th {\n",
       "        text-align: left;\n",
       "    }\n",
       "\n",
       "    .dataframe thead tr:last-of-type th {\n",
       "        text-align: right;\n",
       "    }\n",
       "</style>\n",
       "<table border=\"1\" class=\"dataframe\">\n",
       "  <thead>\n",
       "    <tr>\n",
       "      <th></th>\n",
       "      <th></th>\n",
       "      <th></th>\n",
       "      <th colspan=\"2\" halign=\"left\">min</th>\n",
       "      <th colspan=\"2\" halign=\"left\">max</th>\n",
       "      <th colspan=\"2\" halign=\"left\">std</th>\n",
       "    </tr>\n",
       "    <tr>\n",
       "      <th></th>\n",
       "      <th></th>\n",
       "      <th>true_percentage</th>\n",
       "      <th>5.0</th>\n",
       "      <th>95.0</th>\n",
       "      <th>5.0</th>\n",
       "      <th>95.0</th>\n",
       "      <th>5.0</th>\n",
       "      <th>95.0</th>\n",
       "    </tr>\n",
       "    <tr>\n",
       "      <th>size</th>\n",
       "      <th>repeat</th>\n",
       "      <th>profile</th>\n",
       "      <th></th>\n",
       "      <th></th>\n",
       "      <th></th>\n",
       "      <th></th>\n",
       "      <th></th>\n",
       "      <th></th>\n",
       "    </tr>\n",
       "  </thead>\n",
       "  <tbody>\n",
       "    <tr>\n",
       "      <th rowspan=\"2\" valign=\"top\">1000000.0</th>\n",
       "      <th rowspan=\"2\" valign=\"top\">10000.0</th>\n",
       "      <th>debug</th>\n",
       "      <td>139.279009</td>\n",
       "      <td>142.119574</td>\n",
       "      <td>140.169759</td>\n",
       "      <td>143.549068</td>\n",
       "      <td>0.373347</td>\n",
       "      <td>0.570717</td>\n",
       "    </tr>\n",
       "    <tr>\n",
       "      <th>release</th>\n",
       "      <td>11.743516</td>\n",
       "      <td>11.684414</td>\n",
       "      <td>11.775050</td>\n",
       "      <td>11.746374</td>\n",
       "      <td>0.011724</td>\n",
       "      <td>0.025139</td>\n",
       "    </tr>\n",
       "    <tr>\n",
       "      <th>100000000.0</th>\n",
       "      <th>1000.0</th>\n",
       "      <th>release</th>\n",
       "      <td>117.391698</td>\n",
       "      <td>116.729464</td>\n",
       "      <td>117.776748</td>\n",
       "      <td>117.362745</td>\n",
       "      <td>0.152865</td>\n",
       "      <td>0.239805</td>\n",
       "    </tr>\n",
       "  </tbody>\n",
       "</table>\n",
       "</div>"
      ],
      "text/plain": [
       "                                    min                     max              \\\n",
       "true_percentage                    5.0         95.0        5.0         95.0   \n",
       "size        repeat  profile                                                   \n",
       "1000000.0   10000.0 debug    139.279009  142.119574  140.169759  143.549068   \n",
       "                    release   11.743516   11.684414   11.775050   11.746374   \n",
       "100000000.0 1000.0  release  117.391698  116.729464  117.776748  117.362745   \n",
       "\n",
       "                                  std            \n",
       "true_percentage                  5.0       95.0  \n",
       "size        repeat  profile                      \n",
       "1000000.0   10000.0 debug    0.373347  0.570717  \n",
       "                    release  0.011724  0.025139  \n",
       "100000000.0 1000.0  release  0.152865  0.239805  "
      ]
     },
     "execution_count": 8,
     "metadata": {},
     "output_type": "execute_result"
    }
   ],
   "source": [
    "df.pivot_table(values='time', index=['size', 'repeat', 'profile'], columns=['true_percentage'], aggfunc=['min', 'max', 'std'])"
   ]
  },
  {
   "cell_type": "markdown",
   "metadata": {},
   "source": [
    "Por fim, o diagrama de caixa a seguir ilustra os resultados das Tabelas anteriores e sugere que, pelo menos no computador, compilador e programa analisado, o bloco da **Linha (I)** (if) é priorizado em detrimento da **Linha (II)** (else) no caso de perfis de compilação em modo *release*, e o inverso ocorre no modo *debug* (razões não exploradas)."
   ]
  },
  {
   "cell_type": "code",
   "execution_count": 6,
   "metadata": {},
   "outputs": [
    {
     "data": {
      "image/png": "[encoded data removed]",
      "text/plain": [
       "<Figure size 1036.8x432 with 3 Axes>"
      ]
     },
     "metadata": {
      "needs_background": "light"
     },
     "output_type": "display_data"
    }
   ],
   "source": [
    "_x = 'true_percentage'\n",
    "g = sns.catplot(x=_x, y='time', col='size&profile', fliersize=0,\n",
    "                data=df, kind=\"box\", height=6, aspect=.8, sharey=False)\n",
    "g.map_dataframe(sns.stripplot, x=_x, y='time',\n",
    "                palette=[\"#404040\"], alpha=0.8, dodge=True)\n",
    "_ = g.set_axis_labels(\"Porcentagem de casos positivos\", \"Tempo de execução (em segundos)\").set_titles(\"Tamanho & Perfil: {col_name}\")"
   ]
  },
  {
   "cell_type": "markdown",
   "metadata": {},
   "source": [
    "Apesar da diferença de tempo não ser muito significativa, tal fenômeno pode ser explicado analisando-se o *assembly* dos binários gerados, localizados nos arquivos `report/release.s` e `report/debug.s` cujos nomes são respectivos aos perfis de compilação utilizados. Em particular, observe a linha 1430 em diante de `report/release.s`:\n",
    "\n",
    "```asm\n",
    "// report/release.s::1430\n",
    ".LBB49_138:\n",
    "\t\t// src/main.rs : 62\n",
    "\t\tif t.a > t.b {\n",
    "\tmovupd xmm0, xmmword ptr [rax + rsi]\n",
    "\tmovapd xmm1, xmm0\n",
    "\tunpckhpd xmm1, xmm0\n",
    "\tucomisd xmm0, xmm1\n",
    "\tjbe .LBB49_154 // PULO CONDICIONAL PARA report/release.s::1630\n",
    ".Ltmp2258:\n",
    "\tmovsd xmm5, qword ptr [rax + rsi + 16]\n",
    ".Ltmp2259:\n",
    "\t\t// src/main.rs : 63 // LINHA (I)\n",
    "\t\tlet mut p1 = t.a*5.0 - t.b*4.0 + t.a*t.c*2.0;\n",
    "\tmovapd xmm3, xmm0\n",
    "\tmulpd xmm3, xmmword ptr [rip + .LCPI49_6]\n",
    "\tmovapd xmm2, xmm3\n",
    "//\n",
    "// ... OMITIDO\n",
    "//\n",
    "// report/release.s::1630\n",
    ".LBB49_154:\n",
    "\t\t// src/main.rs : 69 // LINHA (II)\n",
    "\t\tlet mut p1 = t.a*6.0 - t.b*5.1 + t.a*t.c*1.8;\n",
    "\tmovapd xmm3, xmm0\n",
    "\tmulpd xmm3, xmmword ptr [rip + .LCPI49_1]\n",
    "\tmovapd xmm2, xmm3\n",
    "\n",
    "```\n",
    "\n",
    "É possível observar que o bloco `if-else` é traduzido em um simples pulo condicional: Se a condição é verdadeira (t.a > t.b), a execução continua na **Linha (I)**; senão, o pulo é realizado para as instruções correspondentes a **Linha (II)**, o que pode ser uma operação custosa para o *pipeline* do processador."
   ]
  }
 ],
 "metadata": {
  "interpreter": {
   "hash": "31f2aee4e71d21fbe5cf8b01ff0e069b9275f58929596ceb00d14d90e3e16cd6"
  },
  "kernelspec": {
   "display_name": "Python 3 (ipykernel)",
   "language": "python",
   "name": "python3"
  },
  "language_info": {
   "codemirror_mode": {
    "name": "ipython",
    "version": 3
   },
   "file_extension": ".py",
   "mimetype": "text/x-python",
   "name": "python",
   "nbconvert_exporter": "python",
   "pygments_lexer": "ipython3",
   "version": "3.8.10"
  }
 },
 "nbformat": 4,
 "nbformat_minor": 4
}
